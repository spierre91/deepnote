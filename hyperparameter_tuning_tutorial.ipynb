{
 "cells": [
  {
   "cell_type": "code",
   "metadata": {
    "cell_id": "87225ac8d8e44bca876465f765b21753",
    "tags": [],
    "deepnote_to_be_reexecuted": false,
    "source_hash": "b7300e84",
    "execution_start": 1660079587444,
    "execution_millis": 2,
    "deepnote_cell_type": "code",
    "deepnote_cell_height": 76
   },
   "source": "import pandas as pd ",
   "execution_count": 76,
   "outputs": []
  },
  {
   "cell_type": "code",
   "metadata": {
    "cell_id": "928b3ed6be754dfeaee1d505d89f95e4",
    "tags": [],
    "deepnote_to_be_reexecuted": false,
    "source_hash": "d85aed26",
    "execution_start": 1660079588734,
    "execution_millis": 88,
    "deepnote_cell_type": "code",
    "deepnote_cell_height": 76
   },
   "source": "df = pd.read_csv(\"telco_churn.csv\")",
   "execution_count": 77,
   "outputs": []
  },
  {
   "cell_type": "code",
   "metadata": {
    "cell_id": "13938399170e48258d49ed19777337c2",
    "tags": [],
    "deepnote_to_be_reexecuted": false,
    "source_hash": "c085b6ba",
    "execution_start": 1660079590183,
    "execution_millis": 63,
    "deepnote_cell_type": "code",
    "deepnote_cell_height": 390
   },
   "source": "df.head()",
   "execution_count": 78,
   "outputs": [
    {
     "output_type": "execute_result",
     "execution_count": 78,
     "data": {
      "application/vnd.deepnote.dataframe.v3+json": {
       "column_count": 21,
       "row_count": 5,
       "columns": [
        {
         "name": "customerID",
         "dtype": "object",
         "stats": {
          "unique_count": 5,
          "nan_count": 0,
          "categories": [
           {
            "name": "7590-VHVEG",
            "count": 1
           },
           {
            "name": "5575-GNVDE",
            "count": 1
           },
           {
            "name": "3 others",
            "count": 3
           }
          ]
         }
        },
        {
         "name": "gender",
         "dtype": "object",
         "stats": {
          "unique_count": 2,
          "nan_count": 0,
          "categories": [
           {
            "name": "Male",
            "count": 3
           },
           {
            "name": "Female",
            "count": 2
           }
          ]
         }
        },
        {
         "name": "SeniorCitizen",
         "dtype": "int64",
         "stats": {
          "unique_count": 1,
          "nan_count": 0,
          "min": "0",
          "max": "0",
          "histogram": [
           {
            "bin_start": -0.5,
            "bin_end": -0.4,
            "count": 0
           },
           {
            "bin_start": -0.4,
            "bin_end": -0.3,
            "count": 0
           },
           {
            "bin_start": -0.3,
            "bin_end": -0.19999999999999996,
            "count": 0
           },
           {
            "bin_start": -0.19999999999999996,
            "bin_end": -0.09999999999999998,
            "count": 0
           },
           {
            "bin_start": -0.09999999999999998,
            "bin_end": 0,
            "count": 0
           },
           {
            "bin_start": 0,
            "bin_end": 0.10000000000000009,
            "count": 5
           },
           {
            "bin_start": 0.10000000000000009,
            "bin_end": 0.20000000000000007,
            "count": 0
           },
           {
            "bin_start": 0.20000000000000007,
            "bin_end": 0.30000000000000004,
            "count": 0
           },
           {
            "bin_start": 0.30000000000000004,
            "bin_end": 0.4,
            "count": 0
           },
           {
            "bin_start": 0.4,
            "bin_end": 0.5,
            "count": 0
           }
          ]
         }
        },
        {
         "name": "Partner",
         "dtype": "object",
         "stats": {
          "unique_count": 2,
          "nan_count": 0,
          "categories": [
           {
            "name": "No",
            "count": 4
           },
           {
            "name": "Yes",
            "count": 1
           }
          ]
         }
        },
        {
         "name": "Dependents",
         "dtype": "object",
         "stats": {
          "unique_count": 1,
          "nan_count": 0,
          "categories": [
           {
            "name": "No",
            "count": 5
           }
          ]
         }
        },
        {
         "name": "tenure",
         "dtype": "int64",
         "stats": {
          "unique_count": 4,
          "nan_count": 0,
          "min": "1",
          "max": "45",
          "histogram": [
           {
            "bin_start": 1,
            "bin_end": 5.4,
            "count": 3
           },
           {
            "bin_start": 5.4,
            "bin_end": 9.8,
            "count": 0
           },
           {
            "bin_start": 9.8,
            "bin_end": 14.200000000000001,
            "count": 0
           },
           {
            "bin_start": 14.200000000000001,
            "bin_end": 18.6,
            "count": 0
           },
           {
            "bin_start": 18.6,
            "bin_end": 23,
            "count": 0
           },
           {
            "bin_start": 23,
            "bin_end": 27.400000000000002,
            "count": 0
           },
           {
            "bin_start": 27.400000000000002,
            "bin_end": 31.800000000000004,
            "count": 0
           },
           {
            "bin_start": 31.800000000000004,
            "bin_end": 36.2,
            "count": 1
           },
           {
            "bin_start": 36.2,
            "bin_end": 40.6,
            "count": 0
           },
           {
            "bin_start": 40.6,
            "bin_end": 45,
            "count": 1
           }
          ]
         }
        },
        {
         "name": "PhoneService",
         "dtype": "object",
         "stats": {
          "unique_count": 2,
          "nan_count": 0,
          "categories": [
           {
            "name": "Yes",
            "count": 3
           },
           {
            "name": "No",
            "count": 2
           }
          ]
         }
        },
        {
         "name": "MultipleLines",
         "dtype": "object",
         "stats": {
          "unique_count": 2,
          "nan_count": 0,
          "categories": [
           {
            "name": "No",
            "count": 3
           },
           {
            "name": "No phone service",
            "count": 2
           }
          ]
         }
        },
        {
         "name": "InternetService",
         "dtype": "object",
         "stats": {
          "unique_count": 2,
          "nan_count": 0,
          "categories": [
           {
            "name": "DSL",
            "count": 4
           },
           {
            "name": "Fiber optic",
            "count": 1
           }
          ]
         }
        },
        {
         "name": "OnlineSecurity",
         "dtype": "object",
         "stats": {
          "unique_count": 2,
          "nan_count": 0,
          "categories": [
           {
            "name": "Yes",
            "count": 3
           },
           {
            "name": "No",
            "count": 2
           }
          ]
         }
        },
        {
         "name": "OnlineBackup",
         "dtype": "object",
         "stats": {
          "unique_count": 2,
          "nan_count": 0,
          "categories": [
           {
            "name": "No",
            "count": 3
           },
           {
            "name": "Yes",
            "count": 2
           }
          ]
         }
        },
        {
         "name": "DeviceProtection",
         "dtype": "object",
         "stats": {
          "unique_count": 2,
          "nan_count": 0,
          "categories": [
           {
            "name": "No",
            "count": 3
           },
           {
            "name": "Yes",
            "count": 2
           }
          ]
         }
        },
        {
         "name": "TechSupport",
         "dtype": "object",
         "stats": {
          "unique_count": 2,
          "nan_count": 0,
          "categories": [
           {
            "name": "No",
            "count": 4
           },
           {
            "name": "Yes",
            "count": 1
           }
          ]
         }
        },
        {
         "name": "StreamingTV",
         "dtype": "object",
         "stats": {
          "unique_count": 1,
          "nan_count": 0,
          "categories": [
           {
            "name": "No",
            "count": 5
           }
          ]
         }
        },
        {
         "name": "StreamingMovies",
         "dtype": "object",
         "stats": {
          "unique_count": 1,
          "nan_count": 0,
          "categories": [
           {
            "name": "No",
            "count": 5
           }
          ]
         }
        },
        {
         "name": "Contract",
         "dtype": "object",
         "stats": {
          "unique_count": 2,
          "nan_count": 0,
          "categories": [
           {
            "name": "Month-to-month",
            "count": 3
           },
           {
            "name": "One year",
            "count": 2
           }
          ]
         }
        },
        {
         "name": "PaperlessBilling",
         "dtype": "object",
         "stats": {
          "unique_count": 2,
          "nan_count": 0,
          "categories": [
           {
            "name": "Yes",
            "count": 3
           },
           {
            "name": "No",
            "count": 2
           }
          ]
         }
        },
        {
         "name": "PaymentMethod",
         "dtype": "object",
         "stats": {
          "unique_count": 3,
          "nan_count": 0,
          "categories": [
           {
            "name": "Electronic check",
            "count": 2
           },
           {
            "name": "Mailed check",
            "count": 2
           },
           {
            "name": "Bank transfer (automatic)",
            "count": 1
           }
          ]
         }
        },
        {
         "name": "MonthlyCharges",
         "dtype": "float64",
         "stats": {
          "unique_count": 5,
          "nan_count": 0,
          "min": "29.85",
          "max": "70.7",
          "histogram": [
           {
            "bin_start": 29.85,
            "bin_end": 33.935,
            "count": 1
           },
           {
            "bin_start": 33.935,
            "bin_end": 38.02,
            "count": 0
           },
           {
            "bin_start": 38.02,
            "bin_end": 42.105000000000004,
            "count": 0
           },
           {
            "bin_start": 42.105000000000004,
            "bin_end": 46.19,
            "count": 1
           },
           {
            "bin_start": 46.19,
            "bin_end": 50.275000000000006,
            "count": 0
           },
           {
            "bin_start": 50.275000000000006,
            "bin_end": 54.36,
            "count": 1
           },
           {
            "bin_start": 54.36,
            "bin_end": 58.445,
            "count": 1
           },
           {
            "bin_start": 58.445,
            "bin_end": 62.53,
            "count": 0
           },
           {
            "bin_start": 62.53,
            "bin_end": 66.61500000000001,
            "count": 0
           },
           {
            "bin_start": 66.61500000000001,
            "bin_end": 70.7,
            "count": 1
           }
          ]
         }
        },
        {
         "name": "TotalCharges",
         "dtype": "object",
         "stats": {
          "unique_count": 5,
          "nan_count": 0,
          "categories": [
           {
            "name": "29.85",
            "count": 1
           },
           {
            "name": "1889.5",
            "count": 1
           },
           {
            "name": "3 others",
            "count": 3
           }
          ]
         }
        },
        {
         "name": "Churn",
         "dtype": "object",
         "stats": {
          "unique_count": 2,
          "nan_count": 0,
          "categories": [
           {
            "name": "No",
            "count": 3
           },
           {
            "name": "Yes",
            "count": 2
           }
          ]
         }
        },
        {
         "name": "_deepnote_index_column",
         "dtype": "int64"
        }
       ],
       "rows": [
        {
         "customerID": "7590-VHVEG",
         "gender": "Female",
         "SeniorCitizen": 0,
         "Partner": "Yes",
         "Dependents": "No",
         "tenure": 1,
         "PhoneService": "No",
         "MultipleLines": "No phone service",
         "InternetService": "DSL",
         "OnlineSecurity": "No",
         "OnlineBackup": "Yes",
         "DeviceProtection": "No",
         "TechSupport": "No",
         "StreamingTV": "No",
         "StreamingMovies": "No",
         "Contract": "Month-to-month",
         "PaperlessBilling": "Yes",
         "PaymentMethod": "Electronic check",
         "MonthlyCharges": 29.85,
         "TotalCharges": "29.85",
         "Churn": "No",
         "_deepnote_index_column": 0
        },
        {
         "customerID": "5575-GNVDE",
         "gender": "Male",
         "SeniorCitizen": 0,
         "Partner": "No",
         "Dependents": "No",
         "tenure": 34,
         "PhoneService": "Yes",
         "MultipleLines": "No",
         "InternetService": "DSL",
         "OnlineSecurity": "Yes",
         "OnlineBackup": "No",
         "DeviceProtection": "Yes",
         "TechSupport": "No",
         "StreamingTV": "No",
         "StreamingMovies": "No",
         "Contract": "One year",
         "PaperlessBilling": "No",
         "PaymentMethod": "Mailed check",
         "MonthlyCharges": 56.95,
         "TotalCharges": "1889.5",
         "Churn": "No",
         "_deepnote_index_column": 1
        },
        {
         "customerID": "3668-QPYBK",
         "gender": "Male",
         "SeniorCitizen": 0,
         "Partner": "No",
         "Dependents": "No",
         "tenure": 2,
         "PhoneService": "Yes",
         "MultipleLines": "No",
         "InternetService": "DSL",
         "OnlineSecurity": "Yes",
         "OnlineBackup": "Yes",
         "DeviceProtection": "No",
         "TechSupport": "No",
         "StreamingTV": "No",
         "StreamingMovies": "No",
         "Contract": "Month-to-month",
         "PaperlessBilling": "Yes",
         "PaymentMethod": "Mailed check",
         "MonthlyCharges": 53.85,
         "TotalCharges": "108.15",
         "Churn": "Yes",
         "_deepnote_index_column": 2
        },
        {
         "customerID": "7795-CFOCW",
         "gender": "Male",
         "SeniorCitizen": 0,
         "Partner": "No",
         "Dependents": "No",
         "tenure": 45,
         "PhoneService": "No",
         "MultipleLines": "No phone service",
         "InternetService": "DSL",
         "OnlineSecurity": "Yes",
         "OnlineBackup": "No",
         "DeviceProtection": "Yes",
         "TechSupport": "Yes",
         "StreamingTV": "No",
         "StreamingMovies": "No",
         "Contract": "One year",
         "PaperlessBilling": "No",
         "PaymentMethod": "Bank transfer (automatic)",
         "MonthlyCharges": 42.3,
         "TotalCharges": "1840.75",
         "Churn": "No",
         "_deepnote_index_column": 3
        },
        {
         "customerID": "9237-HQITU",
         "gender": "Female",
         "SeniorCitizen": 0,
         "Partner": "No",
         "Dependents": "No",
         "tenure": 2,
         "PhoneService": "Yes",
         "MultipleLines": "No",
         "InternetService": "Fiber optic",
         "OnlineSecurity": "No",
         "OnlineBackup": "No",
         "DeviceProtection": "No",
         "TechSupport": "No",
         "StreamingTV": "No",
         "StreamingMovies": "No",
         "Contract": "Month-to-month",
         "PaperlessBilling": "Yes",
         "PaymentMethod": "Electronic check",
         "MonthlyCharges": 70.7,
         "TotalCharges": "151.65",
         "Churn": "Yes",
         "_deepnote_index_column": 4
        }
       ]
      },
      "text/plain": "   customerID  gender  SeniorCitizen Partner Dependents  tenure PhoneService  \\\n0  7590-VHVEG  Female              0     Yes         No       1           No   \n1  5575-GNVDE    Male              0      No         No      34          Yes   \n2  3668-QPYBK    Male              0      No         No       2          Yes   \n3  7795-CFOCW    Male              0      No         No      45           No   \n4  9237-HQITU  Female              0      No         No       2          Yes   \n\n      MultipleLines InternetService OnlineSecurity  ... DeviceProtection  \\\n0  No phone service             DSL             No  ...               No   \n1                No             DSL            Yes  ...              Yes   \n2                No             DSL            Yes  ...               No   \n3  No phone service             DSL            Yes  ...              Yes   \n4                No     Fiber optic             No  ...               No   \n\n  TechSupport StreamingTV StreamingMovies        Contract PaperlessBilling  \\\n0          No          No              No  Month-to-month              Yes   \n1          No          No              No        One year               No   \n2          No          No              No  Month-to-month              Yes   \n3         Yes          No              No        One year               No   \n4          No          No              No  Month-to-month              Yes   \n\n               PaymentMethod MonthlyCharges  TotalCharges Churn  \n0           Electronic check          29.85         29.85    No  \n1               Mailed check          56.95        1889.5    No  \n2               Mailed check          53.85        108.15   Yes  \n3  Bank transfer (automatic)          42.30       1840.75    No  \n4           Electronic check          70.70        151.65   Yes  \n\n[5 rows x 21 columns]",
      "text/html": "<div>\n<style scoped>\n    .dataframe tbody tr th:only-of-type {\n        vertical-align: middle;\n    }\n\n    .dataframe tbody tr th {\n        vertical-align: top;\n    }\n\n    .dataframe thead th {\n        text-align: right;\n    }\n</style>\n<table border=\"1\" class=\"dataframe\">\n  <thead>\n    <tr style=\"text-align: right;\">\n      <th></th>\n      <th>customerID</th>\n      <th>gender</th>\n      <th>SeniorCitizen</th>\n      <th>Partner</th>\n      <th>Dependents</th>\n      <th>tenure</th>\n      <th>PhoneService</th>\n      <th>MultipleLines</th>\n      <th>InternetService</th>\n      <th>OnlineSecurity</th>\n      <th>...</th>\n      <th>DeviceProtection</th>\n      <th>TechSupport</th>\n      <th>StreamingTV</th>\n      <th>StreamingMovies</th>\n      <th>Contract</th>\n      <th>PaperlessBilling</th>\n      <th>PaymentMethod</th>\n      <th>MonthlyCharges</th>\n      <th>TotalCharges</th>\n      <th>Churn</th>\n    </tr>\n  </thead>\n  <tbody>\n    <tr>\n      <th>0</th>\n      <td>7590-VHVEG</td>\n      <td>Female</td>\n      <td>0</td>\n      <td>Yes</td>\n      <td>No</td>\n      <td>1</td>\n      <td>No</td>\n      <td>No phone service</td>\n      <td>DSL</td>\n      <td>No</td>\n      <td>...</td>\n      <td>No</td>\n      <td>No</td>\n      <td>No</td>\n      <td>No</td>\n      <td>Month-to-month</td>\n      <td>Yes</td>\n      <td>Electronic check</td>\n      <td>29.85</td>\n      <td>29.85</td>\n      <td>No</td>\n    </tr>\n    <tr>\n      <th>1</th>\n      <td>5575-GNVDE</td>\n      <td>Male</td>\n      <td>0</td>\n      <td>No</td>\n      <td>No</td>\n      <td>34</td>\n      <td>Yes</td>\n      <td>No</td>\n      <td>DSL</td>\n      <td>Yes</td>\n      <td>...</td>\n      <td>Yes</td>\n      <td>No</td>\n      <td>No</td>\n      <td>No</td>\n      <td>One year</td>\n      <td>No</td>\n      <td>Mailed check</td>\n      <td>56.95</td>\n      <td>1889.5</td>\n      <td>No</td>\n    </tr>\n    <tr>\n      <th>2</th>\n      <td>3668-QPYBK</td>\n      <td>Male</td>\n      <td>0</td>\n      <td>No</td>\n      <td>No</td>\n      <td>2</td>\n      <td>Yes</td>\n      <td>No</td>\n      <td>DSL</td>\n      <td>Yes</td>\n      <td>...</td>\n      <td>No</td>\n      <td>No</td>\n      <td>No</td>\n      <td>No</td>\n      <td>Month-to-month</td>\n      <td>Yes</td>\n      <td>Mailed check</td>\n      <td>53.85</td>\n      <td>108.15</td>\n      <td>Yes</td>\n    </tr>\n    <tr>\n      <th>3</th>\n      <td>7795-CFOCW</td>\n      <td>Male</td>\n      <td>0</td>\n      <td>No</td>\n      <td>No</td>\n      <td>45</td>\n      <td>No</td>\n      <td>No phone service</td>\n      <td>DSL</td>\n      <td>Yes</td>\n      <td>...</td>\n      <td>Yes</td>\n      <td>Yes</td>\n      <td>No</td>\n      <td>No</td>\n      <td>One year</td>\n      <td>No</td>\n      <td>Bank transfer (automatic)</td>\n      <td>42.30</td>\n      <td>1840.75</td>\n      <td>No</td>\n    </tr>\n    <tr>\n      <th>4</th>\n      <td>9237-HQITU</td>\n      <td>Female</td>\n      <td>0</td>\n      <td>No</td>\n      <td>No</td>\n      <td>2</td>\n      <td>Yes</td>\n      <td>No</td>\n      <td>Fiber optic</td>\n      <td>No</td>\n      <td>...</td>\n      <td>No</td>\n      <td>No</td>\n      <td>No</td>\n      <td>No</td>\n      <td>Month-to-month</td>\n      <td>Yes</td>\n      <td>Electronic check</td>\n      <td>70.70</td>\n      <td>151.65</td>\n      <td>Yes</td>\n    </tr>\n  </tbody>\n</table>\n<p>5 rows × 21 columns</p>\n</div>"
     },
     "metadata": {}
    }
   ]
  },
  {
   "cell_type": "code",
   "metadata": {
    "cell_id": "6f3a969f0ba94cff938aa5e0a43c0299",
    "tags": [],
    "deepnote_to_be_reexecuted": false,
    "source_hash": "dc13d7a4",
    "execution_start": 1660079592525,
    "execution_millis": 6,
    "deepnote_cell_type": "code",
    "deepnote_cell_height": 220
   },
   "source": "#convert categorical columns\ndf['gender'] = df['gender'].astype('category')\ndf['gender_cat'] = df['gender'].cat.codes\ndf['SeniorCitizen'] = df['SeniorCitizen'].astype('category')\ndf['SeniorCitizen_cat'] = df['SeniorCitizen'].cat.codes\ndf['InternetService'] = df['InternetService'].astype('category')\ndf['InternetService_cat'] = df['InternetService'].cat.codes\ndf['DeviceProtection'] = df['DeviceProtection'].astype('category')\ndf['DeviceProtection_cat'] = df['DeviceProtection'].cat.codes",
   "execution_count": 79,
   "outputs": []
  },
  {
   "cell_type": "code",
   "metadata": {
    "cell_id": "e1e0b189141040388ff39bb5e80f9761",
    "tags": [],
    "deepnote_to_be_reexecuted": false,
    "source_hash": "fbda430d",
    "execution_start": 1660079594330,
    "execution_millis": 28,
    "deepnote_cell_type": "code",
    "deepnote_cell_height": 395
   },
   "source": "df[['gender_cat', 'SeniorCitizen_cat', 'InternetService_cat', 'DeviceProtection_cat']].head()",
   "execution_count": 80,
   "outputs": [
    {
     "output_type": "execute_result",
     "execution_count": 80,
     "data": {
      "application/vnd.deepnote.dataframe.v3+json": {
       "column_count": 4,
       "row_count": 5,
       "columns": [
        {
         "name": "gender_cat",
         "dtype": "int8",
         "stats": {
          "unique_count": 2,
          "nan_count": 0,
          "min": "0",
          "max": "1",
          "histogram": [
           {
            "bin_start": 0,
            "bin_end": 0.1,
            "count": 2
           },
           {
            "bin_start": 0.1,
            "bin_end": 0.2,
            "count": 0
           },
           {
            "bin_start": 0.2,
            "bin_end": 0.30000000000000004,
            "count": 0
           },
           {
            "bin_start": 0.30000000000000004,
            "bin_end": 0.4,
            "count": 0
           },
           {
            "bin_start": 0.4,
            "bin_end": 0.5,
            "count": 0
           },
           {
            "bin_start": 0.5,
            "bin_end": 0.6000000000000001,
            "count": 0
           },
           {
            "bin_start": 0.6000000000000001,
            "bin_end": 0.7000000000000001,
            "count": 0
           },
           {
            "bin_start": 0.7000000000000001,
            "bin_end": 0.8,
            "count": 0
           },
           {
            "bin_start": 0.8,
            "bin_end": 0.9,
            "count": 0
           },
           {
            "bin_start": 0.9,
            "bin_end": 1,
            "count": 3
           }
          ]
         }
        },
        {
         "name": "SeniorCitizen_cat",
         "dtype": "int8",
         "stats": {
          "unique_count": 1,
          "nan_count": 0,
          "min": "0",
          "max": "0",
          "histogram": [
           {
            "bin_start": -0.5,
            "bin_end": -0.4,
            "count": 0
           },
           {
            "bin_start": -0.4,
            "bin_end": -0.3,
            "count": 0
           },
           {
            "bin_start": -0.3,
            "bin_end": -0.19999999999999996,
            "count": 0
           },
           {
            "bin_start": -0.19999999999999996,
            "bin_end": -0.09999999999999998,
            "count": 0
           },
           {
            "bin_start": -0.09999999999999998,
            "bin_end": 0,
            "count": 0
           },
           {
            "bin_start": 0,
            "bin_end": 0.10000000000000009,
            "count": 5
           },
           {
            "bin_start": 0.10000000000000009,
            "bin_end": 0.20000000000000007,
            "count": 0
           },
           {
            "bin_start": 0.20000000000000007,
            "bin_end": 0.30000000000000004,
            "count": 0
           },
           {
            "bin_start": 0.30000000000000004,
            "bin_end": 0.4,
            "count": 0
           },
           {
            "bin_start": 0.4,
            "bin_end": 0.5,
            "count": 0
           }
          ]
         }
        },
        {
         "name": "InternetService_cat",
         "dtype": "int8",
         "stats": {
          "unique_count": 2,
          "nan_count": 0,
          "min": "0",
          "max": "1",
          "histogram": [
           {
            "bin_start": 0,
            "bin_end": 0.1,
            "count": 4
           },
           {
            "bin_start": 0.1,
            "bin_end": 0.2,
            "count": 0
           },
           {
            "bin_start": 0.2,
            "bin_end": 0.30000000000000004,
            "count": 0
           },
           {
            "bin_start": 0.30000000000000004,
            "bin_end": 0.4,
            "count": 0
           },
           {
            "bin_start": 0.4,
            "bin_end": 0.5,
            "count": 0
           },
           {
            "bin_start": 0.5,
            "bin_end": 0.6000000000000001,
            "count": 0
           },
           {
            "bin_start": 0.6000000000000001,
            "bin_end": 0.7000000000000001,
            "count": 0
           },
           {
            "bin_start": 0.7000000000000001,
            "bin_end": 0.8,
            "count": 0
           },
           {
            "bin_start": 0.8,
            "bin_end": 0.9,
            "count": 0
           },
           {
            "bin_start": 0.9,
            "bin_end": 1,
            "count": 1
           }
          ]
         }
        },
        {
         "name": "DeviceProtection_cat",
         "dtype": "int8",
         "stats": {
          "unique_count": 2,
          "nan_count": 0,
          "min": "0",
          "max": "2",
          "histogram": [
           {
            "bin_start": 0,
            "bin_end": 0.2,
            "count": 3
           },
           {
            "bin_start": 0.2,
            "bin_end": 0.4,
            "count": 0
           },
           {
            "bin_start": 0.4,
            "bin_end": 0.6000000000000001,
            "count": 0
           },
           {
            "bin_start": 0.6000000000000001,
            "bin_end": 0.8,
            "count": 0
           },
           {
            "bin_start": 0.8,
            "bin_end": 1,
            "count": 0
           },
           {
            "bin_start": 1,
            "bin_end": 1.2000000000000002,
            "count": 0
           },
           {
            "bin_start": 1.2000000000000002,
            "bin_end": 1.4000000000000001,
            "count": 0
           },
           {
            "bin_start": 1.4000000000000001,
            "bin_end": 1.6,
            "count": 0
           },
           {
            "bin_start": 1.6,
            "bin_end": 1.8,
            "count": 0
           },
           {
            "bin_start": 1.8,
            "bin_end": 2,
            "count": 2
           }
          ]
         }
        },
        {
         "name": "_deepnote_index_column",
         "dtype": "int64"
        }
       ],
       "rows": [
        {
         "gender_cat": 0,
         "SeniorCitizen_cat": 0,
         "InternetService_cat": 0,
         "DeviceProtection_cat": 0,
         "_deepnote_index_column": 0
        },
        {
         "gender_cat": 1,
         "SeniorCitizen_cat": 0,
         "InternetService_cat": 0,
         "DeviceProtection_cat": 2,
         "_deepnote_index_column": 1
        },
        {
         "gender_cat": 1,
         "SeniorCitizen_cat": 0,
         "InternetService_cat": 0,
         "DeviceProtection_cat": 0,
         "_deepnote_index_column": 2
        },
        {
         "gender_cat": 1,
         "SeniorCitizen_cat": 0,
         "InternetService_cat": 0,
         "DeviceProtection_cat": 2,
         "_deepnote_index_column": 3
        },
        {
         "gender_cat": 0,
         "SeniorCitizen_cat": 0,
         "InternetService_cat": 1,
         "DeviceProtection_cat": 0,
         "_deepnote_index_column": 4
        }
       ]
      },
      "text/plain": "   gender_cat  SeniorCitizen_cat  InternetService_cat  DeviceProtection_cat\n0           0                  0                    0                     0\n1           1                  0                    0                     2\n2           1                  0                    0                     0\n3           1                  0                    0                     2\n4           0                  0                    1                     0",
      "text/html": "<div>\n<style scoped>\n    .dataframe tbody tr th:only-of-type {\n        vertical-align: middle;\n    }\n\n    .dataframe tbody tr th {\n        vertical-align: top;\n    }\n\n    .dataframe thead th {\n        text-align: right;\n    }\n</style>\n<table border=\"1\" class=\"dataframe\">\n  <thead>\n    <tr style=\"text-align: right;\">\n      <th></th>\n      <th>gender_cat</th>\n      <th>SeniorCitizen_cat</th>\n      <th>InternetService_cat</th>\n      <th>DeviceProtection_cat</th>\n    </tr>\n  </thead>\n  <tbody>\n    <tr>\n      <th>0</th>\n      <td>0</td>\n      <td>0</td>\n      <td>0</td>\n      <td>0</td>\n    </tr>\n    <tr>\n      <th>1</th>\n      <td>1</td>\n      <td>0</td>\n      <td>0</td>\n      <td>2</td>\n    </tr>\n    <tr>\n      <th>2</th>\n      <td>1</td>\n      <td>0</td>\n      <td>0</td>\n      <td>0</td>\n    </tr>\n    <tr>\n      <th>3</th>\n      <td>1</td>\n      <td>0</td>\n      <td>0</td>\n      <td>2</td>\n    </tr>\n    <tr>\n      <th>4</th>\n      <td>0</td>\n      <td>0</td>\n      <td>1</td>\n      <td>0</td>\n    </tr>\n  </tbody>\n</table>\n</div>"
     },
     "metadata": {}
    }
   ]
  },
  {
   "cell_type": "code",
   "metadata": {
    "cell_id": "1b702106e7824ce8a37cbd561643a29e",
    "tags": [],
    "deepnote_to_be_reexecuted": false,
    "source_hash": "c085b6ba",
    "execution_start": 1660070123907,
    "execution_millis": 829,
    "deepnote_cell_type": "code",
    "deepnote_cell_height": 390
   },
   "source": "df.head()",
   "execution_count": 9,
   "outputs": [
    {
     "output_type": "execute_result",
     "execution_count": 9,
     "data": {
      "application/vnd.deepnote.dataframe.v3+json": {
       "column_count": 22,
       "row_count": 5,
       "columns": [
        {
         "name": "customerID",
         "dtype": "object",
         "stats": {
          "unique_count": 5,
          "nan_count": 0,
          "categories": [
           {
            "name": "7590-VHVEG",
            "count": 1
           },
           {
            "name": "5575-GNVDE",
            "count": 1
           },
           {
            "name": "3 others",
            "count": 3
           }
          ]
         }
        },
        {
         "name": "gender",
         "dtype": "category",
         "stats": {
          "unique_count": 2,
          "nan_count": 0,
          "categories": [
           {
            "name": "Male",
            "count": 3
           },
           {
            "name": "Female",
            "count": 2
           }
          ]
         }
        },
        {
         "name": "SeniorCitizen",
         "dtype": "int64",
         "stats": {
          "unique_count": 1,
          "nan_count": 0,
          "min": "0",
          "max": "0",
          "histogram": [
           {
            "bin_start": -0.5,
            "bin_end": -0.4,
            "count": 0
           },
           {
            "bin_start": -0.4,
            "bin_end": -0.3,
            "count": 0
           },
           {
            "bin_start": -0.3,
            "bin_end": -0.19999999999999996,
            "count": 0
           },
           {
            "bin_start": -0.19999999999999996,
            "bin_end": -0.09999999999999998,
            "count": 0
           },
           {
            "bin_start": -0.09999999999999998,
            "bin_end": 0,
            "count": 0
           },
           {
            "bin_start": 0,
            "bin_end": 0.10000000000000009,
            "count": 5
           },
           {
            "bin_start": 0.10000000000000009,
            "bin_end": 0.20000000000000007,
            "count": 0
           },
           {
            "bin_start": 0.20000000000000007,
            "bin_end": 0.30000000000000004,
            "count": 0
           },
           {
            "bin_start": 0.30000000000000004,
            "bin_end": 0.4,
            "count": 0
           },
           {
            "bin_start": 0.4,
            "bin_end": 0.5,
            "count": 0
           }
          ]
         }
        },
        {
         "name": "Partner",
         "dtype": "object",
         "stats": {
          "unique_count": 2,
          "nan_count": 0,
          "categories": [
           {
            "name": "No",
            "count": 4
           },
           {
            "name": "Yes",
            "count": 1
           }
          ]
         }
        },
        {
         "name": "Dependents",
         "dtype": "object",
         "stats": {
          "unique_count": 1,
          "nan_count": 0,
          "categories": [
           {
            "name": "No",
            "count": 5
           }
          ]
         }
        },
        {
         "name": "tenure",
         "dtype": "int64",
         "stats": {
          "unique_count": 4,
          "nan_count": 0,
          "min": "1",
          "max": "45",
          "histogram": [
           {
            "bin_start": 1,
            "bin_end": 5.4,
            "count": 3
           },
           {
            "bin_start": 5.4,
            "bin_end": 9.8,
            "count": 0
           },
           {
            "bin_start": 9.8,
            "bin_end": 14.200000000000001,
            "count": 0
           },
           {
            "bin_start": 14.200000000000001,
            "bin_end": 18.6,
            "count": 0
           },
           {
            "bin_start": 18.6,
            "bin_end": 23,
            "count": 0
           },
           {
            "bin_start": 23,
            "bin_end": 27.400000000000002,
            "count": 0
           },
           {
            "bin_start": 27.400000000000002,
            "bin_end": 31.800000000000004,
            "count": 0
           },
           {
            "bin_start": 31.800000000000004,
            "bin_end": 36.2,
            "count": 1
           },
           {
            "bin_start": 36.2,
            "bin_end": 40.6,
            "count": 0
           },
           {
            "bin_start": 40.6,
            "bin_end": 45,
            "count": 1
           }
          ]
         }
        },
        {
         "name": "PhoneService",
         "dtype": "object",
         "stats": {
          "unique_count": 2,
          "nan_count": 0,
          "categories": [
           {
            "name": "Yes",
            "count": 3
           },
           {
            "name": "No",
            "count": 2
           }
          ]
         }
        },
        {
         "name": "MultipleLines",
         "dtype": "object",
         "stats": {
          "unique_count": 2,
          "nan_count": 0,
          "categories": [
           {
            "name": "No",
            "count": 3
           },
           {
            "name": "No phone service",
            "count": 2
           }
          ]
         }
        },
        {
         "name": "InternetService",
         "dtype": "object",
         "stats": {
          "unique_count": 2,
          "nan_count": 0,
          "categories": [
           {
            "name": "DSL",
            "count": 4
           },
           {
            "name": "Fiber optic",
            "count": 1
           }
          ]
         }
        },
        {
         "name": "OnlineSecurity",
         "dtype": "object",
         "stats": {
          "unique_count": 2,
          "nan_count": 0,
          "categories": [
           {
            "name": "Yes",
            "count": 3
           },
           {
            "name": "No",
            "count": 2
           }
          ]
         }
        },
        {
         "name": "OnlineBackup",
         "dtype": "object",
         "stats": {
          "unique_count": 2,
          "nan_count": 0,
          "categories": [
           {
            "name": "No",
            "count": 3
           },
           {
            "name": "Yes",
            "count": 2
           }
          ]
         }
        },
        {
         "name": "DeviceProtection",
         "dtype": "object",
         "stats": {
          "unique_count": 2,
          "nan_count": 0,
          "categories": [
           {
            "name": "No",
            "count": 3
           },
           {
            "name": "Yes",
            "count": 2
           }
          ]
         }
        },
        {
         "name": "TechSupport",
         "dtype": "object",
         "stats": {
          "unique_count": 2,
          "nan_count": 0,
          "categories": [
           {
            "name": "No",
            "count": 4
           },
           {
            "name": "Yes",
            "count": 1
           }
          ]
         }
        },
        {
         "name": "StreamingTV",
         "dtype": "object",
         "stats": {
          "unique_count": 1,
          "nan_count": 0,
          "categories": [
           {
            "name": "No",
            "count": 5
           }
          ]
         }
        },
        {
         "name": "StreamingMovies",
         "dtype": "object",
         "stats": {
          "unique_count": 1,
          "nan_count": 0,
          "categories": [
           {
            "name": "No",
            "count": 5
           }
          ]
         }
        },
        {
         "name": "Contract",
         "dtype": "object",
         "stats": {
          "unique_count": 2,
          "nan_count": 0,
          "categories": [
           {
            "name": "Month-to-month",
            "count": 3
           },
           {
            "name": "One year",
            "count": 2
           }
          ]
         }
        },
        {
         "name": "PaperlessBilling",
         "dtype": "object",
         "stats": {
          "unique_count": 2,
          "nan_count": 0,
          "categories": [
           {
            "name": "Yes",
            "count": 3
           },
           {
            "name": "No",
            "count": 2
           }
          ]
         }
        },
        {
         "name": "PaymentMethod",
         "dtype": "object",
         "stats": {
          "unique_count": 3,
          "nan_count": 0,
          "categories": [
           {
            "name": "Electronic check",
            "count": 2
           },
           {
            "name": "Mailed check",
            "count": 2
           },
           {
            "name": "Bank transfer (automatic)",
            "count": 1
           }
          ]
         }
        },
        {
         "name": "MonthlyCharges",
         "dtype": "float64",
         "stats": {
          "unique_count": 5,
          "nan_count": 0,
          "min": "29.85",
          "max": "70.7",
          "histogram": [
           {
            "bin_start": 29.85,
            "bin_end": 33.935,
            "count": 1
           },
           {
            "bin_start": 33.935,
            "bin_end": 38.02,
            "count": 0
           },
           {
            "bin_start": 38.02,
            "bin_end": 42.105000000000004,
            "count": 0
           },
           {
            "bin_start": 42.105000000000004,
            "bin_end": 46.19,
            "count": 1
           },
           {
            "bin_start": 46.19,
            "bin_end": 50.275000000000006,
            "count": 0
           },
           {
            "bin_start": 50.275000000000006,
            "bin_end": 54.36,
            "count": 1
           },
           {
            "bin_start": 54.36,
            "bin_end": 58.445,
            "count": 1
           },
           {
            "bin_start": 58.445,
            "bin_end": 62.53,
            "count": 0
           },
           {
            "bin_start": 62.53,
            "bin_end": 66.61500000000001,
            "count": 0
           },
           {
            "bin_start": 66.61500000000001,
            "bin_end": 70.7,
            "count": 1
           }
          ]
         }
        },
        {
         "name": "TotalCharges",
         "dtype": "object",
         "stats": {
          "unique_count": 5,
          "nan_count": 0,
          "categories": [
           {
            "name": "29.85",
            "count": 1
           },
           {
            "name": "1889.5",
            "count": 1
           },
           {
            "name": "3 others",
            "count": 3
           }
          ]
         }
        },
        {
         "name": "Churn",
         "dtype": "object",
         "stats": {
          "unique_count": 2,
          "nan_count": 0,
          "categories": [
           {
            "name": "No",
            "count": 3
           },
           {
            "name": "Yes",
            "count": 2
           }
          ]
         }
        },
        {
         "name": "gender_cat",
         "dtype": "int8",
         "stats": {
          "unique_count": 2,
          "nan_count": 0,
          "min": "0",
          "max": "1",
          "histogram": [
           {
            "bin_start": 0,
            "bin_end": 0.1,
            "count": 2
           },
           {
            "bin_start": 0.1,
            "bin_end": 0.2,
            "count": 0
           },
           {
            "bin_start": 0.2,
            "bin_end": 0.30000000000000004,
            "count": 0
           },
           {
            "bin_start": 0.30000000000000004,
            "bin_end": 0.4,
            "count": 0
           },
           {
            "bin_start": 0.4,
            "bin_end": 0.5,
            "count": 0
           },
           {
            "bin_start": 0.5,
            "bin_end": 0.6000000000000001,
            "count": 0
           },
           {
            "bin_start": 0.6000000000000001,
            "bin_end": 0.7000000000000001,
            "count": 0
           },
           {
            "bin_start": 0.7000000000000001,
            "bin_end": 0.8,
            "count": 0
           },
           {
            "bin_start": 0.8,
            "bin_end": 0.9,
            "count": 0
           },
           {
            "bin_start": 0.9,
            "bin_end": 1,
            "count": 3
           }
          ]
         }
        },
        {
         "name": "_deepnote_index_column",
         "dtype": "int64"
        }
       ],
       "rows": [
        {
         "customerID": "7590-VHVEG",
         "gender": "Female",
         "SeniorCitizen": 0,
         "Partner": "Yes",
         "Dependents": "No",
         "tenure": 1,
         "PhoneService": "No",
         "MultipleLines": "No phone service",
         "InternetService": "DSL",
         "OnlineSecurity": "No",
         "OnlineBackup": "Yes",
         "DeviceProtection": "No",
         "TechSupport": "No",
         "StreamingTV": "No",
         "StreamingMovies": "No",
         "Contract": "Month-to-month",
         "PaperlessBilling": "Yes",
         "PaymentMethod": "Electronic check",
         "MonthlyCharges": 29.85,
         "TotalCharges": "29.85",
         "Churn": "No",
         "gender_cat": 0,
         "_deepnote_index_column": 0
        },
        {
         "customerID": "5575-GNVDE",
         "gender": "Male",
         "SeniorCitizen": 0,
         "Partner": "No",
         "Dependents": "No",
         "tenure": 34,
         "PhoneService": "Yes",
         "MultipleLines": "No",
         "InternetService": "DSL",
         "OnlineSecurity": "Yes",
         "OnlineBackup": "No",
         "DeviceProtection": "Yes",
         "TechSupport": "No",
         "StreamingTV": "No",
         "StreamingMovies": "No",
         "Contract": "One year",
         "PaperlessBilling": "No",
         "PaymentMethod": "Mailed check",
         "MonthlyCharges": 56.95,
         "TotalCharges": "1889.5",
         "Churn": "No",
         "gender_cat": 1,
         "_deepnote_index_column": 1
        },
        {
         "customerID": "3668-QPYBK",
         "gender": "Male",
         "SeniorCitizen": 0,
         "Partner": "No",
         "Dependents": "No",
         "tenure": 2,
         "PhoneService": "Yes",
         "MultipleLines": "No",
         "InternetService": "DSL",
         "OnlineSecurity": "Yes",
         "OnlineBackup": "Yes",
         "DeviceProtection": "No",
         "TechSupport": "No",
         "StreamingTV": "No",
         "StreamingMovies": "No",
         "Contract": "Month-to-month",
         "PaperlessBilling": "Yes",
         "PaymentMethod": "Mailed check",
         "MonthlyCharges": 53.85,
         "TotalCharges": "108.15",
         "Churn": "Yes",
         "gender_cat": 1,
         "_deepnote_index_column": 2
        },
        {
         "customerID": "7795-CFOCW",
         "gender": "Male",
         "SeniorCitizen": 0,
         "Partner": "No",
         "Dependents": "No",
         "tenure": 45,
         "PhoneService": "No",
         "MultipleLines": "No phone service",
         "InternetService": "DSL",
         "OnlineSecurity": "Yes",
         "OnlineBackup": "No",
         "DeviceProtection": "Yes",
         "TechSupport": "Yes",
         "StreamingTV": "No",
         "StreamingMovies": "No",
         "Contract": "One year",
         "PaperlessBilling": "No",
         "PaymentMethod": "Bank transfer (automatic)",
         "MonthlyCharges": 42.3,
         "TotalCharges": "1840.75",
         "Churn": "No",
         "gender_cat": 1,
         "_deepnote_index_column": 3
        },
        {
         "customerID": "9237-HQITU",
         "gender": "Female",
         "SeniorCitizen": 0,
         "Partner": "No",
         "Dependents": "No",
         "tenure": 2,
         "PhoneService": "Yes",
         "MultipleLines": "No",
         "InternetService": "Fiber optic",
         "OnlineSecurity": "No",
         "OnlineBackup": "No",
         "DeviceProtection": "No",
         "TechSupport": "No",
         "StreamingTV": "No",
         "StreamingMovies": "No",
         "Contract": "Month-to-month",
         "PaperlessBilling": "Yes",
         "PaymentMethod": "Electronic check",
         "MonthlyCharges": 70.7,
         "TotalCharges": "151.65",
         "Churn": "Yes",
         "gender_cat": 0,
         "_deepnote_index_column": 4
        }
       ]
      },
      "text/plain": "   customerID  gender  SeniorCitizen Partner Dependents  tenure PhoneService  \\\n0  7590-VHVEG  Female              0     Yes         No       1           No   \n1  5575-GNVDE    Male              0      No         No      34          Yes   \n2  3668-QPYBK    Male              0      No         No       2          Yes   \n3  7795-CFOCW    Male              0      No         No      45           No   \n4  9237-HQITU  Female              0      No         No       2          Yes   \n\n      MultipleLines InternetService OnlineSecurity  ... TechSupport  \\\n0  No phone service             DSL             No  ...          No   \n1                No             DSL            Yes  ...          No   \n2                No             DSL            Yes  ...          No   \n3  No phone service             DSL            Yes  ...         Yes   \n4                No     Fiber optic             No  ...          No   \n\n  StreamingTV StreamingMovies        Contract PaperlessBilling  \\\n0          No              No  Month-to-month              Yes   \n1          No              No        One year               No   \n2          No              No  Month-to-month              Yes   \n3          No              No        One year               No   \n4          No              No  Month-to-month              Yes   \n\n               PaymentMethod MonthlyCharges TotalCharges  Churn gender_cat  \n0           Electronic check          29.85        29.85     No          0  \n1               Mailed check          56.95       1889.5     No          1  \n2               Mailed check          53.85       108.15    Yes          1  \n3  Bank transfer (automatic)          42.30      1840.75     No          1  \n4           Electronic check          70.70       151.65    Yes          0  \n\n[5 rows x 22 columns]",
      "text/html": "<div>\n<style scoped>\n    .dataframe tbody tr th:only-of-type {\n        vertical-align: middle;\n    }\n\n    .dataframe tbody tr th {\n        vertical-align: top;\n    }\n\n    .dataframe thead th {\n        text-align: right;\n    }\n</style>\n<table border=\"1\" class=\"dataframe\">\n  <thead>\n    <tr style=\"text-align: right;\">\n      <th></th>\n      <th>customerID</th>\n      <th>gender</th>\n      <th>SeniorCitizen</th>\n      <th>Partner</th>\n      <th>Dependents</th>\n      <th>tenure</th>\n      <th>PhoneService</th>\n      <th>MultipleLines</th>\n      <th>InternetService</th>\n      <th>OnlineSecurity</th>\n      <th>...</th>\n      <th>TechSupport</th>\n      <th>StreamingTV</th>\n      <th>StreamingMovies</th>\n      <th>Contract</th>\n      <th>PaperlessBilling</th>\n      <th>PaymentMethod</th>\n      <th>MonthlyCharges</th>\n      <th>TotalCharges</th>\n      <th>Churn</th>\n      <th>gender_cat</th>\n    </tr>\n  </thead>\n  <tbody>\n    <tr>\n      <th>0</th>\n      <td>7590-VHVEG</td>\n      <td>Female</td>\n      <td>0</td>\n      <td>Yes</td>\n      <td>No</td>\n      <td>1</td>\n      <td>No</td>\n      <td>No phone service</td>\n      <td>DSL</td>\n      <td>No</td>\n      <td>...</td>\n      <td>No</td>\n      <td>No</td>\n      <td>No</td>\n      <td>Month-to-month</td>\n      <td>Yes</td>\n      <td>Electronic check</td>\n      <td>29.85</td>\n      <td>29.85</td>\n      <td>No</td>\n      <td>0</td>\n    </tr>\n    <tr>\n      <th>1</th>\n      <td>5575-GNVDE</td>\n      <td>Male</td>\n      <td>0</td>\n      <td>No</td>\n      <td>No</td>\n      <td>34</td>\n      <td>Yes</td>\n      <td>No</td>\n      <td>DSL</td>\n      <td>Yes</td>\n      <td>...</td>\n      <td>No</td>\n      <td>No</td>\n      <td>No</td>\n      <td>One year</td>\n      <td>No</td>\n      <td>Mailed check</td>\n      <td>56.95</td>\n      <td>1889.5</td>\n      <td>No</td>\n      <td>1</td>\n    </tr>\n    <tr>\n      <th>2</th>\n      <td>3668-QPYBK</td>\n      <td>Male</td>\n      <td>0</td>\n      <td>No</td>\n      <td>No</td>\n      <td>2</td>\n      <td>Yes</td>\n      <td>No</td>\n      <td>DSL</td>\n      <td>Yes</td>\n      <td>...</td>\n      <td>No</td>\n      <td>No</td>\n      <td>No</td>\n      <td>Month-to-month</td>\n      <td>Yes</td>\n      <td>Mailed check</td>\n      <td>53.85</td>\n      <td>108.15</td>\n      <td>Yes</td>\n      <td>1</td>\n    </tr>\n    <tr>\n      <th>3</th>\n      <td>7795-CFOCW</td>\n      <td>Male</td>\n      <td>0</td>\n      <td>No</td>\n      <td>No</td>\n      <td>45</td>\n      <td>No</td>\n      <td>No phone service</td>\n      <td>DSL</td>\n      <td>Yes</td>\n      <td>...</td>\n      <td>Yes</td>\n      <td>No</td>\n      <td>No</td>\n      <td>One year</td>\n      <td>No</td>\n      <td>Bank transfer (automatic)</td>\n      <td>42.30</td>\n      <td>1840.75</td>\n      <td>No</td>\n      <td>1</td>\n    </tr>\n    <tr>\n      <th>4</th>\n      <td>9237-HQITU</td>\n      <td>Female</td>\n      <td>0</td>\n      <td>No</td>\n      <td>No</td>\n      <td>2</td>\n      <td>Yes</td>\n      <td>No</td>\n      <td>Fiber optic</td>\n      <td>No</td>\n      <td>...</td>\n      <td>No</td>\n      <td>No</td>\n      <td>No</td>\n      <td>Month-to-month</td>\n      <td>Yes</td>\n      <td>Electronic check</td>\n      <td>70.70</td>\n      <td>151.65</td>\n      <td>Yes</td>\n      <td>0</td>\n    </tr>\n  </tbody>\n</table>\n<p>5 rows × 22 columns</p>\n</div>"
     },
     "metadata": {}
    }
   ]
  },
  {
   "cell_type": "code",
   "metadata": {
    "cell_id": "8900859c3b794c72a5a8b39f1948bd17",
    "tags": [],
    "deepnote_to_be_reexecuted": false,
    "source_hash": "4ec7d520",
    "execution_start": 1660079599157,
    "execution_millis": 22,
    "deepnote_cell_type": "code",
    "deepnote_cell_height": 178.6875
   },
   "source": "df['Churn'] = df['Churn'].astype('category')\ndf['Churn_cat'] = df['Churn'].cat.codes\ndf['TotalCharges'] = pd.to_numeric(df['TotalCharges'], 'coerce')\ndf['TotalCharges'].fillna(df['TotalCharges'].mean(), inplace=True)\nprint(Counter(df['Churn']))",
   "execution_count": 81,
   "outputs": [
    {
     "name": "stdout",
     "text": "Counter({'No': 5174, 'Yes': 1869})\n",
     "output_type": "stream"
    }
   ]
  },
  {
   "cell_type": "code",
   "metadata": {
    "cell_id": "2fbf9c76b0f24d1fb8dd74fde84ab6f6",
    "tags": [],
    "deepnote_to_be_reexecuted": false,
    "source_hash": "19cc62a7",
    "execution_start": 1660079611771,
    "execution_millis": 9,
    "deepnote_cell_type": "code",
    "deepnote_cell_height": 183.6875
   },
   "source": "#define input and output\nX = df[['TotalCharges', 'MonthlyCharges', 'gender_cat', 'SeniorCitizen_cat', 'InternetService_cat', 'DeviceProtection_cat']]\ny = df['Churn_cat']\n\nprint(Counter(y))",
   "execution_count": 83,
   "outputs": [
    {
     "name": "stdout",
     "text": "Counter({0: 5174, 1: 1869})\n",
     "output_type": "stream"
    }
   ]
  },
  {
   "cell_type": "code",
   "source": "#import train test split method and split data for training and testing \nfrom sklearn.model_selection import train_test_split\nX_train, X_test, y_train, y_test = train_test_split(X, y, random_state=42)",
   "metadata": {
    "cell_id": "32c9f5d285054fbd9d87c068a597723c",
    "tags": [],
    "deepnote_to_be_reexecuted": false,
    "source_hash": "6a1f442a",
    "execution_start": 1660079667891,
    "execution_millis": 3,
    "deepnote_cell_type": "code",
    "deepnote_cell_height": 117
   },
   "outputs": [],
   "execution_count": 84
  },
  {
   "cell_type": "code",
   "source": "#import random forest classifier and \nfrom sklearn.ensemble import RandomForestClassifier\nmodel = RandomForestClassifier()\nmodel.fit(X_train, y_train)",
   "metadata": {
    "cell_id": "2edb054855de454aa07392d2572e33d9",
    "tags": [],
    "deepnote_to_be_reexecuted": false,
    "source_hash": "df3da36",
    "execution_start": 1660079669379,
    "execution_millis": 666,
    "deepnote_cell_type": "code",
    "deepnote_cell_height": 167.1875,
    "deepnote_output_heights": [
     21.1875
    ]
   },
   "outputs": [
    {
     "output_type": "execute_result",
     "execution_count": 85,
     "data": {
      "text/plain": "RandomForestClassifier()"
     },
     "metadata": {}
    }
   ],
   "execution_count": 85
  },
  {
   "cell_type": "code",
   "source": "model.get_params()",
   "metadata": {
    "cell_id": "35bdd047b58a49658c0659efb31ed476",
    "tags": [],
    "deepnote_to_be_reexecuted": false,
    "source_hash": "34c3e8d4",
    "execution_start": 1660079671757,
    "execution_millis": 2,
    "deepnote_cell_type": "code",
    "deepnote_cell_height": 439.515625,
    "deepnote_output_heights": [
     347.515625
    ]
   },
   "outputs": [
    {
     "output_type": "execute_result",
     "execution_count": 86,
     "data": {
      "text/plain": "{'bootstrap': True,\n 'ccp_alpha': 0.0,\n 'class_weight': None,\n 'criterion': 'gini',\n 'max_depth': None,\n 'max_features': 'auto',\n 'max_leaf_nodes': None,\n 'max_samples': None,\n 'min_impurity_decrease': 0.0,\n 'min_samples_leaf': 1,\n 'min_samples_split': 2,\n 'min_weight_fraction_leaf': 0.0,\n 'n_estimators': 100,\n 'n_jobs': None,\n 'oob_score': False,\n 'random_state': None,\n 'verbose': 0,\n 'warm_start': False}"
     },
     "metadata": {}
    }
   ],
   "execution_count": 86
  },
  {
   "cell_type": "code",
   "source": "from sklearn.metrics import precision_score\ny_pred_default = model.predict(X_test)\nprecision = precision_score(y_test, y_pred_default)\nprecision",
   "metadata": {
    "cell_id": "cb9b39582b284e5c8c3b5ba196a4a97a",
    "tags": [],
    "deepnote_to_be_reexecuted": false,
    "source_hash": "ad0b8387",
    "execution_start": 1660081304070,
    "execution_millis": 85,
    "deepnote_cell_type": "code",
    "deepnote_cell_height": 167.1875,
    "deepnote_output_heights": [
     21.1875
    ]
   },
   "outputs": [
    {
     "output_type": "execute_result",
     "execution_count": 132,
     "data": {
      "text/plain": "0.5631313131313131"
     },
     "metadata": {}
    }
   ],
   "execution_count": 132
  },
  {
   "cell_type": "code",
   "source": "from sklearn.model_selection import GridSearchCV",
   "metadata": {
    "cell_id": "5678d8b7e82a46449c57b38ded1e017c",
    "tags": [],
    "deepnote_to_be_reexecuted": false,
    "source_hash": "385c9dff",
    "execution_start": 1660079675010,
    "execution_millis": 0,
    "deepnote_cell_type": "code",
    "deepnote_cell_height": 76
   },
   "outputs": [],
   "execution_count": 87
  },
  {
   "cell_type": "code",
   "source": "params = { \n    'n_estimators': [10, 100],\n    'max_features': ['sqrt'],\n    'max_depth' : [5, 20],\n    'criterion' :['gini']\n}\n",
   "metadata": {
    "cell_id": "2eed50e18778488dbcab9d19d3b9bae2",
    "tags": [],
    "deepnote_to_be_reexecuted": false,
    "source_hash": "2cf8712f",
    "execution_start": 1660079676559,
    "execution_millis": 4,
    "deepnote_cell_type": "code",
    "deepnote_cell_height": 184
   },
   "outputs": [],
   "execution_count": 88
  },
  {
   "cell_type": "code",
   "source": "grid_search_rf = GridSearchCV(estimator=model, param_grid=params, cv= 20, scoring='precision')\ngrid_search_rf.fit(X_train, y_train)",
   "metadata": {
    "cell_id": "7cca1985e8e24b8fa6d31634616a4297",
    "tags": [],
    "deepnote_to_be_reexecuted": false,
    "source_hash": "fd961ca2",
    "execution_start": 1660080534828,
    "execution_millis": 20575,
    "deepnote_cell_type": "code",
    "deepnote_cell_height": 193.78125,
    "deepnote_output_heights": [
     78.78125
    ]
   },
   "outputs": [
    {
     "output_type": "execute_result",
     "execution_count": 113,
     "data": {
      "text/plain": "GridSearchCV(cv=20, estimator=RandomForestClassifier(),\n             param_grid={'criterion': ['gini'], 'max_depth': [5, 20],\n                         'max_features': ['sqrt'], 'n_estimators': [10, 100]},\n             scoring='precision')"
     },
     "metadata": {}
    }
   ],
   "execution_count": 113
  },
  {
   "cell_type": "code",
   "source": "gscv_params = grid_search_rf.best_params_\ngscv_params\n",
   "metadata": {
    "cell_id": "f8717f7d99fb4d989f0045ba2cd6368b",
    "tags": [],
    "deepnote_to_be_reexecuted": false,
    "source_hash": "8b015b2",
    "execution_start": 1660080555409,
    "execution_millis": 0,
    "deepnote_cell_type": "code",
    "deepnote_cell_height": 206.78125,
    "deepnote_output_heights": [
     78.78125
    ]
   },
   "outputs": [
    {
     "output_type": "execute_result",
     "execution_count": 114,
     "data": {
      "text/plain": "{'criterion': 'gini',\n 'max_depth': 5,\n 'max_features': 'sqrt',\n 'n_estimators': 100}"
     },
     "metadata": {}
    }
   ],
   "execution_count": 114
  },
  {
   "cell_type": "code",
   "source": "gscv_params = grid_search_rf.best_params_\nmodel_rf_gscv = RandomForestClassifier(**gscv_params)\nmodel_rf_gscv.fit(X_train, y_train)",
   "metadata": {
    "cell_id": "7f2ba63d9db84ebb8d7da142671b1ed3",
    "tags": [],
    "deepnote_to_be_reexecuted": false,
    "source_hash": "83f34e4c",
    "execution_start": 1660080565837,
    "execution_millis": 700,
    "deepnote_cell_type": "code",
    "deepnote_cell_height": 149.1875,
    "deepnote_output_heights": [
     21.1875
    ]
   },
   "outputs": [
    {
     "output_type": "execute_result",
     "execution_count": 115,
     "data": {
      "text/plain": "RandomForestClassifier(max_depth=5, max_features='sqrt')"
     },
     "metadata": {}
    }
   ],
   "execution_count": 115
  },
  {
   "cell_type": "code",
   "source": "y_pred_gscv = model_rf_gscv.predict(X_test)\nprecision_gscv = precision_score(y_test, y_pred_gscv)\nprecision_gscv\n",
   "metadata": {
    "cell_id": "569a5d0a533c4cb48a0cfb6e2f1224e5",
    "tags": [],
    "deepnote_to_be_reexecuted": false,
    "source_hash": "d7a703a5",
    "execution_start": 1660081324936,
    "execution_millis": 62,
    "deepnote_cell_type": "code",
    "deepnote_cell_height": 167.1875,
    "deepnote_output_heights": [
     21.1875
    ]
   },
   "outputs": [
    {
     "output_type": "execute_result",
     "execution_count": 133,
     "data": {
      "text/plain": "0.6996197718631179"
     },
     "metadata": {}
    }
   ],
   "execution_count": 133
  },
  {
   "cell_type": "code",
   "source": "%pip install -U rbfopt",
   "metadata": {
    "cell_id": "39aa98f594b5420a8b645f963dad36c4",
    "tags": [],
    "deepnote_to_be_reexecuted": false,
    "source_hash": "c62e8ea0",
    "execution_start": 1660079701579,
    "execution_millis": 3990,
    "deepnote_cell_type": "code",
    "deepnote_cell_height": 426
   },
   "outputs": [
    {
     "name": "stdout",
     "text": "Requirement already satisfied: rbfopt in /usr/local/lib/python3.7/site-packages (4.2.4)\nRequirement already satisfied: numpy in /shared-libs/python3.7/py/lib/python3.7/site-packages (from rbfopt) (1.21.6)\nRequirement already satisfied: pyomo in /usr/local/lib/python3.7/site-packages (from rbfopt) (6.4.1)\nRequirement already satisfied: scipy in /shared-libs/python3.7/py/lib/python3.7/site-packages (from rbfopt) (1.7.3)\nRequirement already satisfied: ply in /usr/local/lib/python3.7/site-packages (from pyomo->rbfopt) (3.11)\n\u001b[33mWARNING: Running pip as the 'root' user can result in broken permissions and conflicting behaviour with the system package manager. It is recommended to use a virtual environment instead: https://pip.pypa.io/warnings/venv\u001b[0m\u001b[33m\n\u001b[0m\u001b[33mWARNING: You are using pip version 22.0.4; however, version 22.2.2 is available.\nYou should consider upgrading via the '/usr/local/bin/python -m pip install --upgrade pip' command.\u001b[0m\u001b[33m\n\u001b[0mNote: you may need to restart the kernel to use updated packages.\n",
     "output_type": "stream"
    }
   ],
   "execution_count": 92
  },
  {
   "cell_type": "code",
   "source": "lbounds = [10, 5] \nubounds = [100, 20] ",
   "metadata": {
    "cell_id": "a34e60d469604a868c42ec26b750e514",
    "tags": [],
    "deepnote_to_be_reexecuted": false,
    "source_hash": "397c0f73",
    "execution_start": 1660080668482,
    "execution_millis": 0,
    "deepnote_cell_type": "code",
    "deepnote_cell_height": 94
   },
   "outputs": [],
   "execution_count": 117
  },
  {
   "cell_type": "code",
   "source": "import rbfopt\nfrom sklearn.model_selection import cross_val_score",
   "metadata": {
    "cell_id": "f4643f6eca4c41a89bd2ec6911b6dc08",
    "tags": [],
    "deepnote_to_be_reexecuted": false,
    "source_hash": "1476ba1f",
    "execution_start": 1660080670351,
    "execution_millis": 3,
    "deepnote_cell_type": "code",
    "deepnote_cell_height": 124.6875
   },
   "outputs": [
    {
     "name": "stdout",
     "text": "Counter({0: 3892, 1: 1390})\n",
     "output_type": "stream"
    }
   ],
   "execution_count": 118
  },
  {
   "cell_type": "code",
   "source": "%pip install pyomo",
   "metadata": {
    "cell_id": "cff41ac401864ae385cd1b9b9a42acc9",
    "tags": [],
    "deepnote_to_be_reexecuted": false,
    "source_hash": "d0c66afb",
    "execution_start": 1660081894673,
    "execution_millis": 4328,
    "deepnote_cell_type": "code",
    "deepnote_cell_height": 209.671875
   },
   "outputs": [
    {
     "name": "stdout",
     "text": "Requirement already satisfied: pyomo in /usr/local/lib/python3.7/site-packages (6.4.1)\nRequirement already satisfied: ply in /usr/local/lib/python3.7/site-packages (from pyomo) (3.11)\n\u001b[33mWARNING: Running pip as the 'root' user can result in broken permissions and conflicting behaviour with the system package manager. It is recommended to use a virtual environment instead: https://pip.pypa.io/warnings/venv\u001b[0m\u001b[33m\n\u001b[0m\u001b[33mWARNING: You are using pip version 22.0.4; however, version 22.2.2 is available.\nYou should consider upgrading via the '/usr/local/bin/python -m pip install --upgrade pip' command.\u001b[0m\u001b[33m\n\u001b[0mNote: you may need to restart the kernel to use updated packages.\n",
     "output_type": "stream"
    }
   ],
   "execution_count": 135
  },
  {
   "cell_type": "code",
   "source": "def precision_objective(X):\n   n_estimators, max_depth = X\n   n_estimators = int(n_estimators)\n   max_depth = int(max_depth)\n   params = {'n_estimators':n_estimators, 'max_depth': max_depth}\n   model_rbfopt = RandomForestClassifier(criterion='gini', max_features='sqrt', **params)\n   model_rbfopt.fit(X_train, y_train)\n   precision = cross_val_score(model_rbfopt, X_train, y_train, cv=20, scoring='precision')\n\n   return -np.mean(precision)\n\n# specify number of runs for optimizer\nnum_runs = 1\n# specify number of function calls\nmax_fun_calls = 8\n# specify diminsionality of numerical input\nndim = 2\n\nobj_fun = precision_objective\n\nbb = rbfopt.RbfoptUserBlackBox(\n    dimension=ndim,\n    var_lower=np.array(lbounds, dtype=np.float),\n    var_upper=np.array(ubounds, dtype=np.float),\n    var_type=['R'] * ndim,\n    obj_funct=obj_fun)\nsettings = rbfopt.RbfoptSettings(max_evaluations=max_fun_calls)\nalg = rbfopt.RbfoptAlgorithm(settings, bb)\n\nfval, sol, iter_count, eval_count, fast_eval_count = alg.optimize()\n\nobj_vals  = fval\n",
   "metadata": {
    "cell_id": "193fd2208c7e47448a28b3974896b849",
    "tags": [],
    "deepnote_to_be_reexecuted": false,
    "source_hash": "a8096c4",
    "execution_start": 1660082156990,
    "execution_millis": 48095,
    "deepnote_cell_type": "code",
    "deepnote_cell_height": 1648,
    "deepnote_output_heights": [
     78.78125,
     606.5
    ]
   },
   "outputs": [
    {
     "name": "stdout",
     "text": "  Iter  Cycle  Action             Objective value      Time      Gap\n  ----  -----  ------             ---------------      ----      ---\n/shared-libs/python3.7/py-core/lib/python3.7/site-packages/ipykernel_launcher.py:23: DeprecationWarning: `np.float` is a deprecated alias for the builtin `float`. To silence this warning, use `float` by itself. Doing this will not modify any behavior and is safe. If you specifically wanted the numpy scalar type, use `np.float64` here.\nDeprecated in NumPy 1.20; for more details and guidance: https://numpy.org/devdocs/release/1.20.0-notes.html#deprecations\n/shared-libs/python3.7/py-core/lib/python3.7/site-packages/ipykernel_launcher.py:24: DeprecationWarning: `np.float` is a deprecated alias for the builtin `float`. To silence this warning, use `float` by itself. Doing this will not modify any behavior and is safe. If you specifically wanted the numpy scalar type, use `np.float64` here.\nDeprecated in NumPy 1.20; for more details and guidance: https://numpy.org/devdocs/release/1.20.0-notes.html#deprecations\n     0      0  Initialization           -0.592415     18.72   100.00  \n     0      0  Initialization           -0.666765     18.72   100.00 *\n     0      0  Initialization           -0.621460     18.72   100.00  \n     0      0  GlobalStep               -0.676269     25.98   100.00 *\n     1      0  GlobalStep               -0.685104     30.75   100.00 *\n     2      0  GlobalStep               -0.688581     36.70   100.00 *\n     3      0  GlobalStep               -0.686750     42.17   100.00  \n     4      0  GlobalStep               -0.681975     48.14   100.00  \nSummary: iters   5 evals   8 noisy_evals   0 cycles   0 opt_time   48.14 tot_time   48.14 obj        -0.688581 gap 100.00\n",
     "output_type": "stream"
    }
   ],
   "execution_count": 139
  },
  {
   "cell_type": "code",
   "source": "sol_int = [int(x) for x in sol]\nparams_rbfopt = {'n_estimators': sol_int[0], 'max_depth': sol_int[1]}\nparams_rbfopt",
   "metadata": {
    "cell_id": "ca898a2c6e584f08a7efb000600dd1c3",
    "tags": [],
    "deepnote_to_be_reexecuted": false,
    "source_hash": "cad1fa4c",
    "execution_start": 1660081213475,
    "execution_millis": 3,
    "deepnote_cell_type": "code",
    "deepnote_cell_height": 149.1875,
    "deepnote_output_heights": [
     21.1875
    ]
   },
   "outputs": [
    {
     "output_type": "execute_result",
     "execution_count": 128,
     "data": {
      "text/plain": "{'n_estimators': 81, 'max_depth': 5}"
     },
     "metadata": {}
    }
   ],
   "execution_count": 128
  },
  {
   "cell_type": "code",
   "source": "model_rbfopt = RandomForestClassifier(criterion='gini', max_features='sqrt', **params_rbfopt)\nmodel_rbfopt.fit(X_train, y_train)\n",
   "metadata": {
    "cell_id": "d40a02042c024fdd8443fbb31550ccb7",
    "tags": [],
    "deepnote_to_be_reexecuted": false,
    "source_hash": "15d09231",
    "execution_start": 1660081216033,
    "execution_millis": 264,
    "deepnote_cell_type": "code",
    "deepnote_cell_height": 154.1875,
    "deepnote_output_heights": [
     21.1875
    ]
   },
   "outputs": [
    {
     "output_type": "execute_result",
     "execution_count": 129,
     "data": {
      "text/plain": "RandomForestClassifier(max_depth=5, max_features='sqrt', n_estimators=81)"
     },
     "metadata": {}
    }
   ],
   "execution_count": 129
  },
  {
   "cell_type": "code",
   "source": "y_pred_rbfopt = model_rbfopt.predict(X_test)\nprecision_rbfopt = precision_score(y_test, y_pred_rbfopt)\nprecision_rbfopt",
   "metadata": {
    "cell_id": "25dde067e40d4cbd8d9d237355aeb7dd",
    "tags": [],
    "deepnote_to_be_reexecuted": false,
    "source_hash": "530de789",
    "execution_start": 1660081287230,
    "execution_millis": 2,
    "deepnote_cell_type": "code",
    "deepnote_cell_height": 149.1875,
    "deepnote_output_heights": [
     21.1875
    ]
   },
   "outputs": [
    {
     "output_type": "execute_result",
     "execution_count": 131,
     "data": {
      "text/plain": "0.7015503875968992"
     },
     "metadata": {}
    }
   ],
   "execution_count": 131
  },
  {
   "cell_type": "markdown",
   "source": "<a style='text-decoration:none;line-height:16px;display:flex;color:#5B5B62;padding:10px;justify-content:end;' href='https://deepnote.com?utm_source=created-in-deepnote-cell&projectId=5ddaf308-57af-4a6e-ac7b-d39835033e12' target=\"_blank\">\n<img alt='Created in deepnote.com' style='display:inline;max-height:16px;margin:0px;margin-right:7.5px;' src='data:image/svg+xml;base64,PD94bWwgdmVyc2lvbj0iMS4wIiBlbmNvZGluZz0iVVRGLTgiPz4KPHN2ZyB3aWR0aD0iODBweCIgaGVpZ2h0PSI4MHB4IiB2aWV3Qm94PSIwIDAgODAgODAiIHZlcnNpb249IjEuMSIgeG1sbnM9Imh0dHA6Ly93d3cudzMub3JnLzIwMDAvc3ZnIiB4bWxuczp4bGluaz0iaHR0cDovL3d3dy53My5vcmcvMTk5OS94bGluayI+CiAgICA8IS0tIEdlbmVyYXRvcjogU2tldGNoIDU0LjEgKDc2NDkwKSAtIGh0dHBzOi8vc2tldGNoYXBwLmNvbSAtLT4KICAgIDx0aXRsZT5Hcm91cCAzPC90aXRsZT4KICAgIDxkZXNjPkNyZWF0ZWQgd2l0aCBTa2V0Y2guPC9kZXNjPgogICAgPGcgaWQ9IkxhbmRpbmciIHN0cm9rZT0ibm9uZSIgc3Ryb2tlLXdpZHRoPSIxIiBmaWxsPSJub25lIiBmaWxsLXJ1bGU9ImV2ZW5vZGQiPgogICAgICAgIDxnIGlkPSJBcnRib2FyZCIgdHJhbnNmb3JtPSJ0cmFuc2xhdGUoLTEyMzUuMDAwMDAwLCAtNzkuMDAwMDAwKSI+CiAgICAgICAgICAgIDxnIGlkPSJHcm91cC0zIiB0cmFuc2Zvcm09InRyYW5zbGF0ZSgxMjM1LjAwMDAwMCwgNzkuMDAwMDAwKSI+CiAgICAgICAgICAgICAgICA8cG9seWdvbiBpZD0iUGF0aC0yMCIgZmlsbD0iIzAyNjVCNCIgcG9pbnRzPSIyLjM3NjIzNzYyIDgwIDM4LjA0NzY2NjcgODAgNTcuODIxNzgyMiA3My44MDU3NTkyIDU3LjgyMTc4MjIgMzIuNzU5MjczOSAzOS4xNDAyMjc4IDMxLjY4MzE2ODMiPjwvcG9seWdvbj4KICAgICAgICAgICAgICAgIDxwYXRoIGQ9Ik0zNS4wMDc3MTgsODAgQzQyLjkwNjIwMDcsNzYuNDU0OTM1OCA0Ny41NjQ5MTY3LDcxLjU0MjI2NzEgNDguOTgzODY2LDY1LjI2MTk5MzkgQzUxLjExMjI4OTksNTUuODQxNTg0MiA0MS42NzcxNzk1LDQ5LjIxMjIyODQgMjUuNjIzOTg0Niw0OS4yMTIyMjg0IEMyNS40ODQ5Mjg5LDQ5LjEyNjg0NDggMjkuODI2MTI5Niw0My4yODM4MjQ4IDM4LjY0NzU4NjksMzEuNjgzMTY4MyBMNzIuODcxMjg3MSwzMi41NTQ0MjUgTDY1LjI4MDk3Myw2Ny42NzYzNDIxIEw1MS4xMTIyODk5LDc3LjM3NjE0NCBMMzUuMDA3NzE4LDgwIFoiIGlkPSJQYXRoLTIyIiBmaWxsPSIjMDAyODY4Ij48L3BhdGg+CiAgICAgICAgICAgICAgICA8cGF0aCBkPSJNMCwzNy43MzA0NDA1IEwyNy4xMTQ1MzcsMC4yNTcxMTE0MzYgQzYyLjM3MTUxMjMsLTEuOTkwNzE3MDEgODAsMTAuNTAwMzkyNyA4MCwzNy43MzA0NDA1IEM4MCw2NC45NjA0ODgyIDY0Ljc3NjUwMzgsNzkuMDUwMzQxNCAzNC4zMjk1MTEzLDgwIEM0Ny4wNTUzNDg5LDc3LjU2NzA4MDggNTMuNDE4MjY3Nyw3MC4zMTM2MTAzIDUzLjQxODI2NzcsNTguMjM5NTg4NSBDNTMuNDE4MjY3Nyw0MC4xMjg1NTU3IDM2LjMwMzk1NDQsMzcuNzMwNDQwNSAyNS4yMjc0MTcsMzcuNzMwNDQwNSBDMTcuODQzMDU4NiwzNy43MzA0NDA1IDkuNDMzOTE5NjYsMzcuNzMwNDQwNSAwLDM3LjczMDQ0MDUgWiIgaWQ9IlBhdGgtMTkiIGZpbGw9IiMzNzkzRUYiPjwvcGF0aD4KICAgICAgICAgICAgPC9nPgogICAgICAgIDwvZz4KICAgIDwvZz4KPC9zdmc+' > </img>\nCreated in <span style='font-weight:600;margin-left:4px;'>Deepnote</span></a>",
   "metadata": {
    "tags": [],
    "created_in_deepnote_cell": true,
    "deepnote_cell_type": "markdown"
   }
  }
 ],
 "nbformat": 4,
 "nbformat_minor": 2,
 "metadata": {
  "orig_nbformat": 2,
  "deepnote": {
   "is_reactive": false
  },
  "deepnote_notebook_id": "50c68a69-c321-4e24-b142-cdaa47048c60",
  "deepnote_execution_queue": []
 }
}